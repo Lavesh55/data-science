{
 "cells": [
  {
   "cell_type": "markdown",
   "metadata": {},
   "source": [
    " # how to create a function in python"
   ]
  },
  {
   "cell_type": "code",
   "execution_count": 3,
   "metadata": {},
   "outputs": [
    {
     "name": "stdout",
     "output_type": "stream",
     "text": [
      "2\n",
      "4\n"
     ]
    }
   ],
   "source": [
    "#a='lavesh'\n",
    "#print(a)\n",
    "#def fun():#create a function by using def keyword\n",
    "   # a=1\n",
    "\n",
    "   # print(a)\n",
    "#fun() ##calling a function by function name\n",
    "def fun(x): #this is argument\n",
    "    print(x)\n",
    "fun(2)# this is parameters\n",
    "fun(4)\n"
   ]
  },
  {
   "cell_type": "markdown",
   "metadata": {},
   "source": [
    " # for pass the argument"
   ]
  },
  {
   "cell_type": "code",
   "execution_count": 4,
   "metadata": {},
   "outputs": [
    {
     "name": "stdout",
     "output_type": "stream",
     "text": [
      "4\n",
      "8\n"
     ]
    }
   ],
   "source": [
    "def fun(x): #this is argument\n",
    "    print(x*2)\n",
    "fun(2)# this is parameters\n",
    "fun(4)"
   ]
  },
  {
   "cell_type": "markdown",
   "metadata": {},
   "source": [
    "# two paramters"
   ]
  },
  {
   "cell_type": "code",
   "execution_count": 6,
   "metadata": {},
   "outputs": [
    {
     "name": "stdout",
     "output_type": "stream",
     "text": [
      "2.0\n",
      "2.0\n"
     ]
    }
   ],
   "source": [
    "def function(a,b):\n",
    "    print(a/b)\n",
    "\n",
    "function(8,4)\n",
    "function(b=4,a=8)"
   ]
  },
  {
   "cell_type": "markdown",
   "metadata": {},
   "source": [
    "# if we sent one parameters"
   ]
  },
  {
   "cell_type": "code",
   "execution_count": 7,
   "metadata": {},
   "outputs": [
    {
     "ename": "TypeError",
     "evalue": "function() missing 1 required positional argument: 'second'",
     "output_type": "error",
     "traceback": [
      "\u001b[1;31m---------------------------------------------------------------------------\u001b[0m",
      "\u001b[1;31mTypeError\u001b[0m                                 Traceback (most recent call last)",
      "Cell \u001b[1;32mIn[7], line 4\u001b[0m\n\u001b[0;32m      1\u001b[0m \u001b[38;5;28;01mdef\u001b[39;00m \u001b[38;5;21mfunction\u001b[39m(first,second):\n\u001b[0;32m      2\u001b[0m     \u001b[38;5;28mprint\u001b[39m(first\u001b[38;5;241m+\u001b[39msecond)\n\u001b[1;32m----> 4\u001b[0m \u001b[43mfunction\u001b[49m\u001b[43m(\u001b[49m\u001b[38;5;124;43m'\u001b[39;49m\u001b[38;5;124;43mlavesh\u001b[39;49m\u001b[38;5;124;43m'\u001b[39;49m\u001b[43m)\u001b[49m\n",
      "\u001b[1;31mTypeError\u001b[0m: function() missing 1 required positional argument: 'second'"
     ]
    }
   ],
   "source": [
    "def function(first,second):\n",
    "    print(first+second)\n",
    "\n",
    "function('lavesh')"
   ]
  },
  {
   "cell_type": "markdown",
   "metadata": {},
   "source": [
    "# key argument"
   ]
  },
  {
   "cell_type": "code",
   "execution_count": 8,
   "metadata": {},
   "outputs": [
    {
     "name": "stdout",
     "output_type": "stream",
     "text": [
      "c1=gurjar\n"
     ]
    }
   ],
   "source": [
    "def function(c1,c2,c3):\n",
    "    print(\"c1=\"+c3)\n",
    "\n",
    "function(c1=\"lavsh\",c2=\"shivraj\",c3=\"gurjar\")"
   ]
  },
  {
   "cell_type": "markdown",
   "metadata": {},
   "source": [
    "# default parameter value\n"
   ]
  },
  {
   "cell_type": "code",
   "execution_count": 9,
   "metadata": {},
   "outputs": [
    {
     "name": "stdout",
     "output_type": "stream",
     "text": [
      "country is india\n",
      "country is norway\n",
      "country is brazil\n"
     ]
    }
   ],
   "source": [
    "def function(c=\"india\"):\n",
    "    print(\"country is \"+c)\n",
    "\n",
    "function()\n",
    "function(\"norway\")\n",
    "function(\"brazil\")\n",
    "    "
   ]
  },
  {
   "cell_type": "markdown",
   "metadata": {},
   "source": [
    "## send the list as a argument"
   ]
  },
  {
   "cell_type": "code",
   "execution_count": 10,
   "metadata": {},
   "outputs": [
    {
     "name": "stdout",
     "output_type": "stream",
     "text": [
      "apple\n",
      "banana\n",
      "carry\n"
     ]
    }
   ],
   "source": [
    "def function(food):\n",
    "    for x in food:\n",
    "        print(x)\n",
    "food=['apple','banana','carry']\n",
    "function(food)"
   ]
  },
  {
   "cell_type": "code",
   "execution_count": 11,
   "metadata": {},
   "outputs": [
    {
     "name": "stdout",
     "output_type": "stream",
     "text": [
      "('name', 'lavesh')\n",
      "('roll', 11)\n",
      "('sub', 'ss')\n"
     ]
    }
   ],
   "source": [
    "def function(f):\n",
    "    for x in f.items():\n",
    "        print(x)\n",
    "food={'name':\"lavesh\",\"roll\":11,'sub':\"ss\"}\n",
    "function(food)"
   ]
  },
  {
   "cell_type": "markdown",
   "metadata": {},
   "source": [
    "## lambda function = function ko bina name ke call krna"
   ]
  },
  {
   "cell_type": "code",
   "execution_count": 1,
   "metadata": {},
   "outputs": [
    {
     "name": "stdout",
     "output_type": "stream",
     "text": [
      "24\n"
     ]
    }
   ],
   "source": [
    "a=lambda b,c:b*c\n",
    "print(a(4,6))"
   ]
  },
  {
   "cell_type": "markdown",
   "metadata": {},
   "source": [
    "## enmurate function =variable "
   ]
  },
  {
   "cell_type": "code",
   "execution_count": 2,
   "metadata": {},
   "outputs": [
    {
     "name": "stdout",
     "output_type": "stream",
     "text": [
      "0 lavesh\n",
      "1 harsh\n",
      "2 class\n"
     ]
    }
   ],
   "source": [
    "lis=[\"lavesh\",\"harsh\",\"class\"]\n",
    "for x,y in enumerate(lis):\n",
    "    print(x,y)"
   ]
  },
  {
   "cell_type": "code",
   "execution_count": 3,
   "metadata": {},
   "outputs": [
    {
     "name": "stdout",
     "output_type": "stream",
     "text": [
      "0 lavesh\n",
      "1 harsh\n",
      "2 class\n"
     ]
    }
   ],
   "source": [
    "t=(\"lavesh\",\"harsh\",\"class\")\n",
    "for x,y in enumerate(t):\n",
    "    print(x,y)"
   ]
  },
  {
   "cell_type": "code",
   "execution_count": 7,
   "metadata": {},
   "outputs": [
    {
     "name": "stdout",
     "output_type": "stream",
     "text": [
      "0 lavesh\n",
      "1 2\n"
     ]
    }
   ],
   "source": [
    "dct={\"name\":\"lavesh\",\"class\":2}\n",
    "for x,y in enumerate(dct.values()):\n",
    "    print(x,y)\n"
   ]
  },
  {
   "cell_type": "markdown",
   "metadata": {},
   "source": [
    "moduls\n",
    "os ,math,regrex\n",
    "modul"
   ]
  }
 ],
 "metadata": {
  "kernelspec": {
   "display_name": "Python 3",
   "language": "python",
   "name": "python3"
  },
  "language_info": {
   "codemirror_mode": {
    "name": "ipython",
    "version": 3
   },
   "file_extension": ".py",
   "mimetype": "text/x-python",
   "name": "python",
   "nbconvert_exporter": "python",
   "pygments_lexer": "ipython3",
   "version": "3.12.4"
  }
 },
 "nbformat": 4,
 "nbformat_minor": 2
}
