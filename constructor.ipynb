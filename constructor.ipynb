{
 "cells": [
  {
   "cell_type": "markdown",
   "metadata": {},
   "source": [
    "# constructor"
   ]
  },
  {
   "cell_type": "markdown",
   "metadata": {},
   "source": [
    "The init() Function\n",
    "The examples above are classes and objects in their simplest form, and are not really useful in real life applications.\n",
    "To understand the meaning of classes we have to understand the built-in init() function.\n",
    "\n",
    "All classes have a function called init(), which is always executed when the class is being initiated.\n",
    "\n",
    "Use the init() function to assign values to object properties, or other operations that are necessary to do when the object is being created:\n",
    "\n",
    "     Create a class named Person, use the __init__() function to assign values for name and age"
   ]
  },
  {
   "cell_type": "markdown",
   "metadata": {},
   "source": []
  },
  {
   "cell_type": "code",
   "execution_count": 5,
   "metadata": {},
   "outputs": [
    {
     "name": "stdout",
     "output_type": "stream",
     "text": [
      "lavesh\n",
      "30\n"
     ]
    }
   ],
   "source": [
    "class Person:\n",
    "   def __init__(self ,name ,age):\n",
    "    self.name=name\n",
    "    self.age=age\n",
    "   \n",
    "\n",
    "\n",
    "p1=Person(\"lavesh\",30)\n",
    "\n",
    "print(p1.name)\n",
    "print(p1.age)"
   ]
  },
  {
   "cell_type": "code",
   "execution_count": 21,
   "metadata": {},
   "outputs": [
    {
     "name": "stdout",
     "output_type": "stream",
     "text": [
      "father name=lavesh\n",
      "None\n"
     ]
    }
   ],
   "source": [
    "class father:\n",
    "    def __init__(self,name):\n",
    "        self.name=name\n",
    "    def child(ab):\n",
    "            print('father name=' +ab.name)\n",
    "\n",
    "p1=father(\"lavesh\")\n",
    "print(p1.child())\n",
    "        "
   ]
  },
  {
   "cell_type": "code",
   "execution_count": null,
   "metadata": {},
   "outputs": [],
   "source": []
  }
 ],
 "metadata": {
  "kernelspec": {
   "display_name": "Python 3",
   "language": "python",
   "name": "python3"
  },
  "language_info": {
   "codemirror_mode": {
    "name": "ipython",
    "version": 3
   },
   "file_extension": ".py",
   "mimetype": "text/x-python",
   "name": "python",
   "nbconvert_exporter": "python",
   "pygments_lexer": "ipython3",
   "version": "3.12.4"
  }
 },
 "nbformat": 4,
 "nbformat_minor": 2
}
