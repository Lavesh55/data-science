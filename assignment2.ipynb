{
 "cells": [
  {
   "cell_type": "markdown",
   "metadata": {},
   "source": [
    "### 1. what is github? write a simple definition for github"
   ]
  },
  {
   "cell_type": "markdown",
   "metadata": {},
   "source": [
    "\n",
    "### ans :github is plateform that is use for the developers can store and share the project "
   ]
  },
  {
   "cell_type": "markdown",
   "metadata": {},
   "source": [
    "### Q2.\tHow can you clone a GitHub repository to your local machine? Provide the command and explain each part of it."
   ]
  },
  {
   "cell_type": "markdown",
   "metadata": {},
   "source": [
    "### we use the command  **git clone <repository_URL>** to clone the a github repository to  local machine .\n",
    "* **git clone**  this themain command used to clone repository in git\n",
    "* **<repository_URL>** this is the URL of the repository of that we want\n"
   ]
  },
  {
   "cell_type": "markdown",
   "metadata": {},
   "source": [
    " ### 3. Given the list fruits = ['apple', 'banana', 'cherry', 'date'], how would you access the “na” from the ‘banana’? after that change it in upper case like “NA” "
   ]
  },
  {
   "cell_type": "code",
   "execution_count": 12,
   "metadata": {},
   "outputs": [
    {
     "name": "stdout",
     "output_type": "stream",
     "text": [
      "['apple', 'baNAna', 'cherry', 'date']\n"
     ]
    }
   ],
   "source": [
    "fruits=['apple','banana','cherry','date']\n",
    "a=fruits[1]\n",
    "b=a[2:4].upper()\n",
    "\n",
    "fruits[1]=a[:2]+b+a[4:]\n",
    "print(fruits)\n",
    "\n"
   ]
  },
  {
   "cell_type": "markdown",
   "metadata": {},
   "source": [
    "\n",
    "###\t4. What is tuple unpacking? Provide an example with the tuple coordinates = (10, 20, 30), to complete this assignment question, you can take reference from the internet, and describe the tuple unpacking by a coding example.\n"
   ]
  },
  {
   "cell_type": "markdown",
   "metadata": {},
   "source": [
    "### the tuple unpacking is the process of breaking down a tuple into individual elements and assigning those elements to separate variables in one go"
   ]
  },
  {
   "cell_type": "code",
   "execution_count": 13,
   "metadata": {},
   "outputs": [
    {
     "name": "stdout",
     "output_type": "stream",
     "text": [
      "10\n",
      "20\n",
      "30\n"
     ]
    }
   ],
   "source": [
    "a=(10,20,30)\n",
    "x,y,z=a\n",
    "print(x)\n",
    "print(y)\n",
    "print(z)"
   ]
  }
 ],
 "metadata": {
  "kernelspec": {
   "display_name": "Python 3",
   "language": "python",
   "name": "python3"
  },
  "language_info": {
   "codemirror_mode": {
    "name": "ipython",
    "version": 3
   },
   "file_extension": ".py",
   "mimetype": "text/x-python",
   "name": "python",
   "nbconvert_exporter": "python",
   "pygments_lexer": "ipython3",
   "version": "3.12.4"
  }
 },
 "nbformat": 4,
 "nbformat_minor": 2
}
